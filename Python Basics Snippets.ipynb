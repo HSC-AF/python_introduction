{
 "cells": [
  {
   "cell_type": "markdown",
   "metadata": {},
   "source": [
    "This is a hello World program"
   ]
  },
  {
   "cell_type": "code",
   "execution_count": 1,
   "metadata": {},
   "outputs": [
    {
     "name": "stdout",
     "output_type": "stream",
     "text": [
      "Hello World\n"
     ]
    }
   ],
   "source": [
    "#!/usr/bin/env python\n",
    "# -*- coding: utf-8 -*-\n",
    "\n",
    "print(\"Hello World\")"
   ]
  },
  {
   "cell_type": "markdown",
   "metadata": {},
   "source": [
    "Everything is an object"
   ]
  },
  {
   "cell_type": "code",
   "execution_count": 3,
   "metadata": {},
   "outputs": [
    {
     "name": "stdout",
     "output_type": "stream",
     "text": [
      "<class 'int'>\n",
      "140710066793536\n",
      "<class 'str'>\n",
      "2020188494768\n"
     ]
    }
   ],
   "source": [
    "i = 42\n",
    "print(type(i))\n",
    "print(id(i))\n",
    "s = \"bla\"\n",
    "print(type(s))\n",
    "print(id(s))"
   ]
  },
  {
   "cell_type": "markdown",
   "metadata": {},
   "source": [
    "References"
   ]
  },
  {
   "cell_type": "code",
   "execution_count": 6,
   "metadata": {},
   "outputs": [
    {
     "name": "stdout",
     "output_type": "stream",
     "text": [
      "5\n",
      "True\n"
     ]
    }
   ],
   "source": [
    "i = 5\n",
    "j = i\n",
    "print(j is i)"
   ]
  },
  {
   "cell_type": "markdown",
   "metadata": {},
   "source": [
    "Numeric Data Types (int, float, bool, complex)"
   ]
  },
  {
   "cell_type": "code",
   "execution_count": 7,
   "metadata": {},
   "outputs": [
    {
     "name": "stdout",
     "output_type": "stream",
     "text": [
      "<class 'int'>\n",
      "<class 'float'>\n",
      "<class 'bool'>\n",
      "<class 'complex'>\n"
     ]
    }
   ],
   "source": [
    "i = 13\n",
    "print(type(i))\n",
    "i = 1.5\n",
    "print(type(i))\n",
    "i = True\n",
    "print(type(i))\n",
    "i = 3 + 5j\n",
    "print(type(i))"
   ]
  },
  {
   "cell_type": "markdown",
   "metadata": {},
   "source": [
    "# Sequential Data Types"
   ]
  },
  {
   "cell_type": "markdown",
   "metadata": {},
   "source": [
    "Contain multiple elements\n",
    "* List, Tuple, Dictionary, Set\n",
    "* are iterable\n",
    "\n",
    "## Operations\n",
    "\n",
    "| Syntax            | Operation                         |\n",
    "| ----------------- | :---------------------------------: |\n",
    "| ````a[i]````      | Returns ````i````th element       |\n",
    "| ````a[-1]````      | Returns last element       |\n",
    "| ````a[i:j]````    | Returns ````i````th until ````j-1````th element     |\n",
    "| ````a[i:j:k]````  | Returns ````i````th until ````j-1````th element with step size ````k```` |\n",
    "| ````a+b````    | Concatenation of ````a```` and ````b````, returns new sequence     |\n",
    "| ````a+=b````    | Appends ````b```` to ````a````     |\n",
    "| ````n*a````    | Generates sequence with ````n````-fold content     |\n",
    "| ````n in a````    | Check whether ````n```` is in ````a````, return ````True```` or ````False````     |"
   ]
  },
  {
   "cell_type": "code",
   "execution_count": 4,
   "metadata": {},
   "outputs": [
    {
     "name": "stdout",
     "output_type": "stream",
     "text": [
      "[1, 2, 3, 4, 1, 2, 3, 4, 1, 2, 3, 4]\n",
      "[2, 3]\n",
      "4\n"
     ]
    }
   ],
   "source": [
    "a = [1,2,3,4]\n",
    "n = 3\n",
    "an = n*a\n",
    "print(an)\n",
    "print(a[1:3])\n",
    "print(a[-1])"
   ]
  },
  {
   "cell_type": "markdown",
   "metadata": {},
   "source": [
    "## List\n",
    "\n",
    "* Can hold arbitrary data types\n",
    "* Can be changed after initialization (Mutable)"
   ]
  },
  {
   "cell_type": "code",
   "execution_count": 12,
   "metadata": {},
   "outputs": [
    {
     "name": "stdout",
     "output_type": "stream",
     "text": [
      "[1, 2.5, 3, 's']\n",
      "4\n",
      "[7, 12, 'a', 3.5]\n",
      "[1, 2.5, 3, 's', 7, 12, 'a', 3.5]\n",
      "[1, 2.5, 3, 's', 8]\n",
      "[1, 2.5, 3, 's', 7, 12, 'a', 3.5, 7, 12, 'a', 3.5]\n",
      "[]\n"
     ]
    }
   ],
   "source": [
    "a = [1, 2.5, 3, \"s\"]\n",
    "b = [7, 12, \"a\", 3.5]\n",
    "print(a)\n",
    "print(len(a))\n",
    "print(b)\n",
    "c = a + b\n",
    "print(c)\n",
    "a.append(8)\n",
    "c+=b\n",
    "print(a)\n",
    "print(c)\n",
    "a.clear()\n",
    "print(a)"
   ]
  },
  {
   "cell_type": "markdown",
   "metadata": {},
   "source": [
    "### Copy\n",
    "\n",
    "* shallow copy\n",
    "* deep copy"
   ]
  },
  {
   "cell_type": "code",
   "execution_count": 21,
   "metadata": {},
   "outputs": [
    {
     "name": "stdout",
     "output_type": "stream",
     "text": [
      "[0, 2, 3, [1, 2, 3]]\n",
      "[1, 2, 3, [1, 2, 3]]\n",
      "[1, 2, 3, [4, 2, 3]]\n",
      "[1, 2, 3, [1, 2, 3]]\n"
     ]
    }
   ],
   "source": [
    "# assignment by reference => no copy\n",
    "a = [1,2,3,[1,2,3]]\n",
    "b = a\n",
    "b[0] = 0\n",
    "print(a) #any change to b also alters a\n",
    "\n",
    "# shallow copy\n",
    "a = [1,2,3,[1,2,3]]\n",
    "b = a.copy()\n",
    "b[0] = 0\n",
    "print(a)\n",
    "b[3][0] = 4\n",
    "print(a) # change to nested list still changes a (only refeerence was copied)\n",
    "\n",
    "# deep copy\n",
    "a = [1,2,3,[1,2,3]]\n",
    "import copy\n",
    "b = copy.deepcopy(a)\n",
    "b[3][0] = 4\n",
    "print(a)"
   ]
  },
  {
   "cell_type": "markdown",
   "metadata": {},
   "source": [
    "### List comprehension"
   ]
  },
  {
   "cell_type": "code",
   "execution_count": 25,
   "metadata": {},
   "outputs": [
    {
     "name": "stdout",
     "output_type": "stream",
     "text": [
      "[1, 4, 9, 16]\n"
     ]
    }
   ],
   "source": [
    "a = [1,2,3,4]\n",
    "asquared = [a**2 for a in a]\n",
    "print(asquared)"
   ]
  },
  {
   "cell_type": "markdown",
   "metadata": {},
   "source": [
    "### Unzip list of tuples"
   ]
  },
  {
   "cell_type": "code",
   "execution_count": 37,
   "metadata": {},
   "outputs": [
    {
     "name": "stdout",
     "output_type": "stream",
     "text": [
      "(1, 2, 3, 4)\n",
      "('a', 'b', 'c', 'd')\n"
     ]
    }
   ],
   "source": [
    "a = [(1, 'a'),(2,'b'),(3,'c'),(4,'d')]\n",
    "v, l = zip(*a)\n",
    "print(v)\n",
    "print(l)"
   ]
  },
  {
   "cell_type": "markdown",
   "metadata": {},
   "source": [
    "## Tuple\n",
    "\n",
    "* Cannot be changed after assignment (immutable)\n",
    "* If entry is a sequence, entries of this can be changed\n",
    "* More memory efficient than list"
   ]
  },
  {
   "cell_type": "code",
   "execution_count": 23,
   "metadata": {},
   "outputs": [
    {
     "name": "stdout",
     "output_type": "stream",
     "text": [
      "(1, 2, 3)\n",
      "(1, 2, [3, 4])\n",
      "(1, 2, [2, 4])\n"
     ]
    }
   ],
   "source": [
    "a = (1,2,3)\n",
    "print(a)\n",
    "#a[1] = 4\n",
    "b = (1, 2, [3, 4])\n",
    "print(b)\n",
    "b[2][0] = 2\n",
    "print(b)"
   ]
  },
  {
   "cell_type": "markdown",
   "metadata": {},
   "source": [
    "## String\n",
    "\n",
    "* immutable"
   ]
  },
  {
   "cell_type": "code",
   "execution_count": 24,
   "metadata": {},
   "outputs": [
    {
     "name": "stdout",
     "output_type": "stream",
     "text": [
      "a\n",
      "hallo welt\n"
     ]
    }
   ],
   "source": [
    "s = \"hallo\"\n",
    "print(s[1])\n",
    "s2 = s + \" welt\"\n",
    "print(s2)"
   ]
  },
  {
   "cell_type": "markdown",
   "metadata": {},
   "source": [
    "## Dictionaries\n",
    "\n",
    "* key-value pairs"
   ]
  },
  {
   "cell_type": "code",
   "execution_count": 34,
   "metadata": {},
   "outputs": [
    {
     "name": "stdout",
     "output_type": "stream",
     "text": [
      "2\n",
      "dict_keys(['a', 'b', 'c', 'd'])\n",
      "dict_values([1, 2, 3, 4])\n",
      "{'a': 1, 'c': 3, 'd': 4}\n",
      "{'a': 1, 'b': 2, 'c': 3, 'd': 4}\n"
     ]
    }
   ],
   "source": [
    "d = { 'a':1, 'b':2, 'c':3, 'd':4}\n",
    "print(d['b'])\n",
    "print(d.keys())\n",
    "print(d.values())\n",
    "del(d['b'])\n",
    "print(d)\n",
    "\n",
    "letters = ['a','b','c','d']\n",
    "values = [1,2,3,4]\n",
    "d = dict(zip(letters, values))\n",
    "print(d)"
   ]
  },
  {
   "cell_type": "markdown",
   "metadata": {},
   "source": [
    "# Functions\n",
    "\n",
    "## Declaration"
   ]
  },
  {
   "cell_type": "code",
   "execution_count": 39,
   "metadata": {},
   "outputs": [
    {
     "name": "stdout",
     "output_type": "stream",
     "text": [
      "20\n"
     ]
    }
   ],
   "source": [
    "def multiply(a,b):\n",
    "    return a*b\n",
    "\n",
    "print(multiply(4,5))"
   ]
  },
  {
   "cell_type": "markdown",
   "metadata": {},
   "source": [
    "## Global and local variables"
   ]
  },
  {
   "cell_type": "code",
   "execution_count": 43,
   "metadata": {},
   "outputs": [
    {
     "name": "stdout",
     "output_type": "stream",
     "text": [
      "8\n",
      "3\n",
      "8\n",
      "8\n"
     ]
    }
   ],
   "source": [
    "x = 3\n",
    "\n",
    "def foo():\n",
    "    x = 8\n",
    "    print(x)\n",
    "   \n",
    "foo()\n",
    "print(x)\n",
    "\n",
    "def foo():\n",
    "    global x\n",
    "    x = 8\n",
    "    print(x)\n",
    "   \n",
    "foo()\n",
    "print(x)"
   ]
  },
  {
   "cell_type": "markdown",
   "metadata": {},
   "source": [
    "## Iterators and Generators"
   ]
  },
  {
   "cell_type": "code",
   "execution_count": 45,
   "metadata": {},
   "outputs": [
    {
     "name": "stdout",
     "output_type": "stream",
     "text": [
      "<class 'list_iterator'>\n",
      "1\n",
      "2\n",
      "3\n",
      "4\n"
     ]
    },
    {
     "ename": "StopIteration",
     "evalue": "",
     "output_type": "error",
     "traceback": [
      "\u001b[1;31m---------------------------------------------------------------------------\u001b[0m",
      "\u001b[1;31mStopIteration\u001b[0m                             Traceback (most recent call last)",
      "\u001b[1;32m<ipython-input-45-2b599e41a429>\u001b[0m in \u001b[0;36m<module>\u001b[1;34m\u001b[0m\n\u001b[0;32m      6\u001b[0m \u001b[0mprint\u001b[0m\u001b[1;33m(\u001b[0m\u001b[0mnext\u001b[0m\u001b[1;33m(\u001b[0m\u001b[0mmy_iter\u001b[0m\u001b[1;33m)\u001b[0m\u001b[1;33m)\u001b[0m\u001b[1;33m\u001b[0m\u001b[1;33m\u001b[0m\u001b[0m\n\u001b[0;32m      7\u001b[0m \u001b[0mprint\u001b[0m\u001b[1;33m(\u001b[0m\u001b[0mnext\u001b[0m\u001b[1;33m(\u001b[0m\u001b[0mmy_iter\u001b[0m\u001b[1;33m)\u001b[0m\u001b[1;33m)\u001b[0m\u001b[1;33m\u001b[0m\u001b[1;33m\u001b[0m\u001b[0m\n\u001b[1;32m----> 8\u001b[1;33m \u001b[0mprint\u001b[0m\u001b[1;33m(\u001b[0m\u001b[0mnext\u001b[0m\u001b[1;33m(\u001b[0m\u001b[0mmy_iter\u001b[0m\u001b[1;33m)\u001b[0m\u001b[1;33m)\u001b[0m\u001b[1;33m\u001b[0m\u001b[1;33m\u001b[0m\u001b[0m\n\u001b[0m",
      "\u001b[1;31mStopIteration\u001b[0m: "
     ]
    }
   ],
   "source": [
    "a = [1,2,3,4]\n",
    "my_iter = iter(a)\n",
    "print(type(my_iter))\n",
    "print(next(my_iter))\n",
    "print(next(my_iter))\n",
    "print(next(my_iter))\n",
    "print(next(my_iter))\n",
    "print(next(my_iter))"
   ]
  },
  {
   "cell_type": "markdown",
   "metadata": {},
   "source": [
    "Generators create data on request, memory efficient, for example when parsing large files"
   ]
  },
  {
   "cell_type": "code",
   "execution_count": 48,
   "metadata": {
    "scrolled": true
   },
   "outputs": [
    {
     "name": "stdout",
     "output_type": "stream",
     "text": [
      "<class 'generator'>\n",
      "1\n",
      "2\n",
      "3\n",
      "4\n"
     ]
    }
   ],
   "source": [
    "def my_generator():\n",
    "    yield 1\n",
    "    yield 2\n",
    "    yield 3\n",
    "    yield 4\n",
    "    \n",
    "gen = my_generator()\n",
    "print(type(gen))\n",
    "\n",
    "for g in gen:\n",
    "    print(g)"
   ]
  },
  {
   "cell_type": "markdown",
   "metadata": {},
   "source": [
    "## Anonymous Functions with Lambda Operator\n",
    "\n",
    "* Example Keras custom layer => also for PyTorch?\n",
    "* Should be used only for single line functions"
   ]
  },
  {
   "cell_type": "code",
   "execution_count": 2,
   "metadata": {},
   "outputs": [
    {
     "name": "stdout",
     "output_type": "stream",
     "text": [
      "5.0\n"
     ]
    }
   ],
   "source": [
    "import math\n",
    "pyt = lambda b, c: math.sqrt(b**2+c**2)\n",
    "print(pyt(4,3))"
   ]
  },
  {
   "cell_type": "markdown",
   "metadata": {},
   "source": [
    "## Decorators\n",
    "\n",
    "https://realpython.com/primer-on-python-decorators/"
   ]
  },
  {
   "cell_type": "code",
   "execution_count": 5,
   "metadata": {},
   "outputs": [
    {
     "name": "stdout",
     "output_type": "stream",
     "text": [
      "5.5\n",
      "Input argument is not a float\n",
      "-1\n",
      "5.5\n",
      "Input argument is not a float\n",
      "-1\n"
     ]
    }
   ],
   "source": [
    "def test_for_float(func):\n",
    "    def wrapper(*args):\n",
    "        for value in args:\n",
    "            if type(value) != float:\n",
    "                print(\"Input argument is not a float\")\n",
    "                return -1\n",
    "            return func(*args)\n",
    "    return wrapper\n",
    "\n",
    "\n",
    "def sum_float(a, b):\n",
    "    return a+b\n",
    "\n",
    "sum_float = test_for_float(sum_float)\n",
    "print(sum_float(2.0, 3.5))\n",
    "print(sum_float(2, 3.5))\n",
    "\n",
    "@test_for_float\n",
    "def sum_float(a, b):\n",
    "    return a+b\n",
    "\n",
    "print(sum_float(2.0, 3.5))\n",
    "print(sum_float(2, 3.5))"
   ]
  },
  {
   "cell_type": "markdown",
   "metadata": {},
   "source": [
    "## Function arguments \\*args and \\*\\*kwargs\n",
    "\n",
    "Pass arbitrary number of arguments to a function\n",
    "* \\*args: non-keywords\n",
    "* \\*\\*kwargs: keywords"
   ]
  },
  {
   "cell_type": "code",
   "execution_count": 8,
   "metadata": {},
   "outputs": [
    {
     "name": "stdout",
     "output_type": "stream",
     "text": [
      "6\n",
      "21\n",
      "name = georg\n",
      "name = georg\n",
      "lastname = arbeiter\n"
     ]
    }
   ],
   "source": [
    "def sum(*args):\n",
    "    sum = 0\n",
    "    for i in args:\n",
    "        sum = sum +i\n",
    "    return sum\n",
    "\n",
    "print(sum(1,2,3))\n",
    "print(sum(1,2,3,4,5,6))\n",
    "\n",
    "\n",
    "def print_name(**kwargs):\n",
    "    for key, value in kwargs.items():\n",
    "        print(\"{0} = {1}\".format(key, value))\n",
    "        \n",
    "print_name(name=\"georg\")\n",
    "print_name(name=\"georg\", lastname=\"arbeiter\")"
   ]
  },
  {
   "cell_type": "code",
   "execution_count": null,
   "metadata": {},
   "outputs": [],
   "source": []
  }
 ],
 "metadata": {
  "kernelspec": {
   "display_name": "Python 3",
   "language": "python",
   "name": "python3"
  },
  "language_info": {
   "codemirror_mode": {
    "name": "ipython",
    "version": 3
   },
   "file_extension": ".py",
   "mimetype": "text/x-python",
   "name": "python",
   "nbconvert_exporter": "python",
   "pygments_lexer": "ipython3",
   "version": "3.8.5"
  }
 },
 "nbformat": 4,
 "nbformat_minor": 4
}
